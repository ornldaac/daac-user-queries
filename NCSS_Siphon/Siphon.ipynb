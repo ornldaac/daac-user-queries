{
 "cells": [
  {
   "cell_type": "markdown",
   "metadata": {},
   "source": [
    "## What is Siphon\n",
    "\n",
    "Siphon is a collection of Python utilities for downloading data from remote data services. Much of Siphon’s current functionality focuses on access to data hosted on a THREDDS Data Server. It also provides clients to a variety of simple web services.\n",
    "\n",
    "On line help:\n",
    "https://unidata.github.io/siphon/latest/index.html"
   ]
  },
  {
   "cell_type": "markdown",
   "metadata": {},
   "source": [
    "Unidata has a siphon tutorial here:  https://unidata.github.io/python-training/workshop/Siphon/siphon-overview/\n",
    "\n",
    "Another tutorial from ESIP here:  https://esip.figshare.com/articles/Siphon_Tutorial_ipynb/5244637"
   ]
  },
  {
   "cell_type": "markdown",
   "metadata": {},
   "source": [
    "Install Siphon:\n",
    "Anaconda install:\n",
    "`conda install -c conda-forge siphon`"
   ]
  },
  {
   "cell_type": "code",
   "execution_count": 1,
   "metadata": {},
   "outputs": [],
   "source": [
    "from datetime import datetime, timedelta\n",
    "from siphon.catalog import TDSCatalog"
   ]
  },
  {
   "cell_type": "markdown",
   "metadata": {},
   "source": [
    "Here's the url for Daymet daily data\n",
    "\n",
    "https://thredds.daac.ornl.gov/thredds/catalog/ornldaac/1328/catalog.html\n",
    "\n",
    "or in a year\n",
    "https://thredds.daac.ornl.gov/thredds/catalog/ornldaac/1328/1980/catalog.html\n",
    "\n",
    "Here's the example from UCAR's siphon tutorial\n",
    "\n",
    "cat = TDSCatalog('http://thredds.ucar.edu/thredds/catalog/nexrad/level3/'\n",
    "                 f'N0Q/LRX/{date:%Y%m%d}/catalog.xml')"
   ]
  },
  {
   "cell_type": "markdown",
   "metadata": {},
   "source": [
    "----"
   ]
  },
  {
   "cell_type": "markdown",
   "metadata": {},
   "source": [
    "##  1. Use Siphon to Access the Daymet Daily Data THREDDS Catalog"
   ]
  },
  {
   "cell_type": "code",
   "execution_count": 2,
   "metadata": {},
   "outputs": [
    {
     "name": "stderr",
     "output_type": "stream",
     "text": [
      "C:\\Users\\myt\\AppData\\Local\\Continuum\\anaconda3\\lib\\site-packages\\siphon\\catalog.py:268: UserWarning: URL https://thredds.daac.ornl.gov/thredds/catalog/ornldaac/1328/catalog.html returned HTML. Changing to: https://thredds.daac.ornl.gov/thredds/catalog/ornldaac/1328/catalog.xml\n",
      "  new_url))\n"
     ]
    }
   ],
   "source": [
    "# Using Siphon, navigate from the top-level THREDDS catalog for Daymet Daily data at \n",
    "#                      https://thredds.daac.ornl.gov/thredds/catalog/ornldaac/1328/catalog.html\n",
    "# This takes care of downloading the catalog, parsing the XML, and doing useful things. \n",
    "# top_cat means top of catalog.  There's a warning about changing from html to xml, but that's ok.\n",
    "top_cat = TDSCatalog('https://thredds.daac.ornl.gov/thredds/catalog/ornldaac/1328/catalog.html')"
   ]
  },
  {
   "cell_type": "code",
   "execution_count": 3,
   "metadata": {},
   "outputs": [
    {
     "data": {
      "text/plain": [
       "['1980',\n",
       " '1981',\n",
       " '1982',\n",
       " '1983',\n",
       " '1984',\n",
       " '1985',\n",
       " '1986',\n",
       " '1987',\n",
       " '1988',\n",
       " '1989',\n",
       " '1990',\n",
       " '1991',\n",
       " '1992',\n",
       " '1993',\n",
       " '1994',\n",
       " '1995',\n",
       " '1996',\n",
       " '1997',\n",
       " '1998',\n",
       " '1999',\n",
       " '2000',\n",
       " '2001',\n",
       " '2002',\n",
       " '2003',\n",
       " '2004',\n",
       " '2005',\n",
       " '2006',\n",
       " '2007',\n",
       " '2008',\n",
       " '2009',\n",
       " '2010',\n",
       " '2011',\n",
       " '2012',\n",
       " '2013',\n",
       " '2014',\n",
       " '2015',\n",
       " '2016',\n",
       " '2017',\n",
       " '2018',\n",
       " '2019']"
      ]
     },
     "execution_count": 3,
     "metadata": {},
     "output_type": "execute_result"
    }
   ],
   "source": [
    "# From here we can do things like look at all the catalog references...\n",
    "# Can see what's available at the top 'reference' level. \n",
    "list(top_cat.catalog_refs)"
   ]
  },
  {
   "cell_type": "code",
   "execution_count": 4,
   "metadata": {},
   "outputs": [
    {
     "name": "stdout",
     "output_type": "stream",
     "text": [
      "1980\n",
      "1981\n",
      "1982\n",
      "1983\n",
      "1984\n",
      "1985\n",
      "1986\n",
      "1987\n",
      "1988\n",
      "1989\n",
      "1990\n",
      "1991\n",
      "1992\n",
      "1993\n",
      "1994\n",
      "1995\n",
      "1996\n",
      "1997\n",
      "1998\n",
      "1999\n",
      "2000\n",
      "2001\n",
      "2002\n",
      "2003\n",
      "2004\n",
      "2005\n",
      "2006\n",
      "2007\n",
      "2008\n",
      "2009\n",
      "2010\n",
      "2011\n",
      "2012\n",
      "2013\n",
      "2014\n",
      "2015\n",
      "2016\n",
      "2017\n",
      "2018\n",
      "2019\n"
     ]
    }
   ],
   "source": [
    "#Or loop thru the list.\n",
    "for ref in top_cat.catalog_refs:\n",
    "    print(ref)"
   ]
  },
  {
   "cell_type": "code",
   "execution_count": 5,
   "metadata": {},
   "outputs": [
    {
     "data": {
      "text/plain": [
       "'https://thredds.daac.ornl.gov/thredds/catalog/ornldaac/1328/1980/catalog.xml'"
      ]
     },
     "execution_count": 5,
     "metadata": {},
     "output_type": "execute_result"
    }
   ],
   "source": [
    "#We can also extract by using the name of the item:\n",
    "ref = top_cat.catalog_refs['1980']\n",
    "ref.href"
   ]
  },
  {
   "cell_type": "code",
   "execution_count": 6,
   "metadata": {},
   "outputs": [
    {
     "name": "stderr",
     "output_type": "stream",
     "text": [
      "C:\\Users\\myt\\AppData\\Local\\Continuum\\anaconda3\\lib\\site-packages\\siphon\\catalog.py:268: UserWarning: URL https://thredds.daac.ornl.gov/thredds/catalog/ornldaac/1328/1980/catalog.html returned HTML. Changing to: https://thredds.daac.ornl.gov/thredds/catalog/ornldaac/1328/1980/catalog.xml\n",
      "  new_url))\n"
     ]
    }
   ],
   "source": [
    "daymet_cat_1980 = TDSCatalog('https://thredds.daac.ornl.gov/thredds/catalog/ornldaac/1328/1980/catalog.html')"
   ]
  },
  {
   "cell_type": "code",
   "execution_count": 7,
   "metadata": {},
   "outputs": [
    {
     "data": {
      "text/plain": [
       "['Daymet v3 daylength for hawaii (1980)',\n",
       " 'Daymet v3 daylength for na (1980)',\n",
       " 'Daymet v3 daylength for puertorico (1980)',\n",
       " 'Daymet v3 precipitation for hawaii (1980)',\n",
       " 'Daymet v3 precipitation for na (1980)',\n",
       " 'Daymet v3 precipitation for puertorico (1980)',\n",
       " 'Daymet v3 shortwave radiation for hawaii (1980)',\n",
       " 'Daymet v3 shortwave radiation for na (1980)',\n",
       " 'Daymet v3 shortwave radiation for puertorico (1980)',\n",
       " 'Daymet v3 snow-water equivalent for hawaii (1980)',\n",
       " 'Daymet v3 snow-water equivalent for na (1980)',\n",
       " 'Daymet v3 snow-water equivalent for puertorico (1980)',\n",
       " 'Daymet v3 daily maximum temperature for hawaii (1980)',\n",
       " 'Daymet v3 daily maximum temperature for na (1980)',\n",
       " 'Daymet v3 daily maximum temperature for puertorico (1980)',\n",
       " 'Daymet v3 daily minimum temperature for hawaii (1980)',\n",
       " 'Daymet v3 daily minimum temperature for na (1980)',\n",
       " 'Daymet v3 daily minimum temperature for puertorico (1980)',\n",
       " 'Daymet v3 vapor pressure for hawaii (1980)',\n",
       " 'Daymet v3 vapor pressure for na (1980)',\n",
       " 'Daymet v3 vapor pressure for puertorico (1980)']"
      ]
     },
     "execution_count": 7,
     "metadata": {},
     "output_type": "execute_result"
    }
   ],
   "source": [
    "# Use the datasets attribute to see the list of datasets available\n",
    "daymet_cat_1980.datasets\n",
    "#or\n",
    "list(daymet_cat_1980.datasets)"
   ]
  },
  {
   "cell_type": "code",
   "execution_count": 8,
   "metadata": {},
   "outputs": [
    {
     "name": "stdout",
     "output_type": "stream",
     "text": [
      "Daymet v3 daylength for hawaii (1980)\n",
      "Daymet v3 daylength for na (1980)\n",
      "Daymet v3 daylength for puertorico (1980)\n",
      "Daymet v3 precipitation for hawaii (1980)\n",
      "Daymet v3 precipitation for na (1980)\n",
      "Daymet v3 precipitation for puertorico (1980)\n",
      "Daymet v3 shortwave radiation for hawaii (1980)\n",
      "Daymet v3 shortwave radiation for na (1980)\n",
      "Daymet v3 shortwave radiation for puertorico (1980)\n",
      "Daymet v3 snow-water equivalent for hawaii (1980)\n",
      "Daymet v3 snow-water equivalent for na (1980)\n",
      "Daymet v3 snow-water equivalent for puertorico (1980)\n",
      "Daymet v3 daily maximum temperature for hawaii (1980)\n",
      "Daymet v3 daily maximum temperature for na (1980)\n",
      "Daymet v3 daily maximum temperature for puertorico (1980)\n",
      "Daymet v3 daily minimum temperature for hawaii (1980)\n",
      "Daymet v3 daily minimum temperature for na (1980)\n",
      "Daymet v3 daily minimum temperature for puertorico (1980)\n",
      "Daymet v3 vapor pressure for hawaii (1980)\n",
      "Daymet v3 vapor pressure for na (1980)\n",
      "Daymet v3 vapor pressure for puertorico (1980)\n"
     ]
    }
   ],
   "source": [
    "#or - handy for looping if needed\n",
    "for ref in daymet_cat_1980.datasets:\n",
    "    print(ref)"
   ]
  },
  {
   "cell_type": "code",
   "execution_count": 9,
   "metadata": {},
   "outputs": [
    {
     "name": "stdout",
     "output_type": "stream",
     "text": [
      "Daymet v3 daily maximum temperature for na (1980)\n"
     ]
    },
    {
     "data": {
      "text/plain": [
       "'Daymet v3 daily maximum temperature for na (1980)'"
      ]
     },
     "execution_count": 9,
     "metadata": {},
     "output_type": "execute_result"
    }
   ],
   "source": [
    "dataset13 = daymet_cat_1980.datasets[13]\n",
    "print(dataset13)\n",
    "# or\n",
    "dataset13.name"
   ]
  },
  {
   "cell_type": "code",
   "execution_count": 10,
   "metadata": {},
   "outputs": [
    {
     "name": "stdout",
     "output_type": "stream",
     "text": [
      "Daymet v3 daily maximum temperature for na (1980)\n"
     ]
    }
   ],
   "source": [
    "# or\n",
    "dataset_tmaxdaily1980 = daymet_cat_1980.datasets['Daymet v3 daily maximum temperature for na (1980)']\n",
    "print(dataset_tmaxdaily1980)"
   ]
  },
  {
   "cell_type": "code",
   "execution_count": 11,
   "metadata": {},
   "outputs": [
    {
     "data": {
      "text/plain": [
       "{'OPENDAP': 'https://thredds.daac.ornl.gov/thredds/dodsC/ornldaac/1328/1980/daymet_v3_tmax_1980_na.nc4',\n",
       " 'HTTPServer': 'https://thredds.daac.ornl.gov/thredds/fileServer/ornldaac/1328/1980/daymet_v3_tmax_1980_na.nc4',\n",
       " 'WCS': 'https://thredds.daac.ornl.gov/thredds/wcs/ornldaac/1328/1980/daymet_v3_tmax_1980_na.nc4',\n",
       " 'WMS': 'https://thredds.daac.ornl.gov/thredds/wms/ornldaac/1328/1980/daymet_v3_tmax_1980_na.nc4',\n",
       " 'NCML': 'https://thredds.daac.ornl.gov/thredds/ncml/ornldaac/1328/1980/daymet_v3_tmax_1980_na.nc4',\n",
       " 'NetcdfSubset': 'https://thredds.daac.ornl.gov/thredds/ncss/grid/ornldaac/1328/1980/daymet_v3_tmax_1980_na.nc4',\n",
       " 'ISO': 'https://thredds.daac.ornl.gov/thredds/iso/ornldaac/1328/1980/daymet_v3_tmax_1980_na.nc4',\n",
       " 'UDDC': 'https://thredds.daac.ornl.gov/thredds/uddc/ornldaac/1328/1980/daymet_v3_tmax_1980_na.nc4'}"
      ]
     },
     "execution_count": 11,
     "metadata": {},
     "output_type": "execute_result"
    }
   ],
   "source": [
    "# look at the access url's for a dataset\n",
    "#ds.access_urls\n",
    "dataset_tmaxdaily1980.access_urls"
   ]
  },
  {
   "cell_type": "markdown",
   "metadata": {},
   "source": [
    "----"
   ]
  },
  {
   "cell_type": "markdown",
   "metadata": {},
   "source": [
    "## 2.  Use Siphon to Remotely Access Data"
   ]
  },
  {
   "cell_type": "code",
   "execution_count": 12,
   "metadata": {},
   "outputs": [],
   "source": [
    "# Using the same data we retrieved above:\n",
    "# Not yet working with daily data.  The files need to be listed by name, not an alias.\n",
    "daymet_cat_1980 = TDSCatalog('https://thredds.daac.ornl.gov/thredds/catalog/ornldaac/1328/1980/catalog.html')\n",
    "dataset_tmaxdaily1980_na = daymet_cat_1980.datasets['Daymet v3 daily maximum temperature for na (1980)']\n",
    "dataset_tmaxdaily1980_hi = daymet_cat_1980.datasets['Daymet v3 daily maximum temperature for hawaii (1980)']"
   ]
  },
  {
   "cell_type": "code",
   "execution_count": 13,
   "metadata": {},
   "outputs": [],
   "source": [
    "# Siphon can download the file locally.  \n",
    "# PROBLEM:  This downloads a file, but need to add .nc to the name or it's not recognized as netCDF format.\n",
    "# Would be best if file was listed by filename, not an alias\n",
    "dataset_tmaxdaily1980_hi.download()"
   ]
  },
  {
   "cell_type": "code",
   "execution_count": 14,
   "metadata": {},
   "outputs": [
    {
     "data": {
      "text/plain": [
       "['.ipynb_checkpoints',\n",
       " 'Daymet v3 daily maximum temperature for hawaii (1980)',\n",
       " 'Daymet v3 daily maximum temperature for hawaii (1980).nc4',\n",
       " 'daymet_v3_tmax_annavg_1980_na.nc4',\n",
       " 'Siphon.ipynb']"
      ]
     },
     "execution_count": 14,
     "metadata": {},
     "output_type": "execute_result"
    }
   ],
   "source": [
    "# Look in your file explorer panel or run the cell below to verify that the file was downloaded.\n",
    "# But this isn't downloading the netCDF file.  The actual file names aren't liste, so it's downloading an object.\n",
    "import os \n",
    "os.listdir()"
   ]
  },
  {
   "cell_type": "code",
   "execution_count": 76,
   "metadata": {},
   "outputs": [
    {
     "data": {
      "text/plain": [
       "['daymet_v3_prcp_annttl_1980_hi.nc4', 'daymet_v3_prcp_annttl_1980_na.nc4', 'daymet_v3_prcp_annttl_1980_pr.nc4', 'daymet_v3_prcp_annttl_1981_hi.nc4', 'daymet_v3_prcp_annttl_1981_na.nc4', 'daymet_v3_prcp_annttl_1981_pr.nc4', 'daymet_v3_prcp_annttl_1982_hi.nc4', 'daymet_v3_prcp_annttl_1982_na.nc4', 'daymet_v3_prcp_annttl_1982_pr.nc4', 'daymet_v3_prcp_annttl_1983_hi.nc4', 'daymet_v3_prcp_annttl_1983_na.nc4', 'daymet_v3_prcp_annttl_1983_pr.nc4', 'daymet_v3_prcp_annttl_1984_hi.nc4', 'daymet_v3_prcp_annttl_1984_na.nc4', 'daymet_v3_prcp_annttl_1984_pr.nc4', 'daymet_v3_prcp_annttl_1985_hi.nc4', 'daymet_v3_prcp_annttl_1985_na.nc4', 'daymet_v3_prcp_annttl_1985_pr.nc4', 'daymet_v3_prcp_annttl_1986_hi.nc4', 'daymet_v3_prcp_annttl_1986_na.nc4', 'daymet_v3_prcp_annttl_1986_pr.nc4', 'daymet_v3_prcp_annttl_1987_hi.nc4', 'daymet_v3_prcp_annttl_1987_na.nc4', 'daymet_v3_prcp_annttl_1987_pr.nc4', 'daymet_v3_prcp_annttl_1988_hi.nc4', 'daymet_v3_prcp_annttl_1988_na.nc4', 'daymet_v3_prcp_annttl_1988_pr.nc4', 'daymet_v3_prcp_annttl_1989_hi.nc4', 'daymet_v3_prcp_annttl_1989_na.nc4', 'daymet_v3_prcp_annttl_1989_pr.nc4', 'daymet_v3_prcp_annttl_1990_hi.nc4', 'daymet_v3_prcp_annttl_1990_na.nc4', 'daymet_v3_prcp_annttl_1990_pr.nc4', 'daymet_v3_prcp_annttl_1991_hi.nc4', 'daymet_v3_prcp_annttl_1991_na.nc4', 'daymet_v3_prcp_annttl_1991_pr.nc4', 'daymet_v3_prcp_annttl_1992_hi.nc4', 'daymet_v3_prcp_annttl_1992_na.nc4', 'daymet_v3_prcp_annttl_1992_pr.nc4', 'daymet_v3_prcp_annttl_1993_hi.nc4', 'daymet_v3_prcp_annttl_1993_na.nc4', 'daymet_v3_prcp_annttl_1993_pr.nc4', 'daymet_v3_prcp_annttl_1994_hi.nc4', 'daymet_v3_prcp_annttl_1994_na.nc4', 'daymet_v3_prcp_annttl_1994_pr.nc4', 'daymet_v3_prcp_annttl_1995_hi.nc4', 'daymet_v3_prcp_annttl_1995_na.nc4', 'daymet_v3_prcp_annttl_1995_pr.nc4', 'daymet_v3_prcp_annttl_1996_hi.nc4', 'daymet_v3_prcp_annttl_1996_na.nc4', 'daymet_v3_prcp_annttl_1996_pr.nc4', 'daymet_v3_prcp_annttl_1997_hi.nc4', 'daymet_v3_prcp_annttl_1997_na.nc4', 'daymet_v3_prcp_annttl_1997_pr.nc4', 'daymet_v3_prcp_annttl_1998_hi.nc4', 'daymet_v3_prcp_annttl_1998_na.nc4', 'daymet_v3_prcp_annttl_1998_pr.nc4', 'daymet_v3_prcp_annttl_1999_hi.nc4', 'daymet_v3_prcp_annttl_1999_na.nc4', 'daymet_v3_prcp_annttl_1999_pr.nc4', 'daymet_v3_prcp_annttl_2000_hi.nc4', 'daymet_v3_prcp_annttl_2000_na.nc4', 'daymet_v3_prcp_annttl_2000_pr.nc4', 'daymet_v3_prcp_annttl_2001_hi.nc4', 'daymet_v3_prcp_annttl_2001_na.nc4', 'daymet_v3_prcp_annttl_2001_pr.nc4', 'daymet_v3_prcp_annttl_2002_hi.nc4', 'daymet_v3_prcp_annttl_2002_na.nc4', 'daymet_v3_prcp_annttl_2002_pr.nc4', 'daymet_v3_prcp_annttl_2003_hi.nc4', 'daymet_v3_prcp_annttl_2003_na.nc4', 'daymet_v3_prcp_annttl_2003_pr.nc4', 'daymet_v3_prcp_annttl_2004_hi.nc4', 'daymet_v3_prcp_annttl_2004_na.nc4', 'daymet_v3_prcp_annttl_2004_pr.nc4', 'daymet_v3_prcp_annttl_2005_hi.nc4', 'daymet_v3_prcp_annttl_2005_na.nc4', 'daymet_v3_prcp_annttl_2005_pr.nc4', 'daymet_v3_prcp_annttl_2006_hi.nc4', 'daymet_v3_prcp_annttl_2006_na.nc4', 'daymet_v3_prcp_annttl_2006_pr.nc4', 'daymet_v3_prcp_annttl_2007_hi.nc4', 'daymet_v3_prcp_annttl_2007_na.nc4', 'daymet_v3_prcp_annttl_2007_pr.nc4', 'daymet_v3_prcp_annttl_2008_hi.nc4', 'daymet_v3_prcp_annttl_2008_na.nc4', 'daymet_v3_prcp_annttl_2008_pr.nc4', 'daymet_v3_prcp_annttl_2009_hi.nc4', 'daymet_v3_prcp_annttl_2009_na.nc4', 'daymet_v3_prcp_annttl_2009_pr.nc4', 'daymet_v3_prcp_annttl_2010_hi.nc4', 'daymet_v3_prcp_annttl_2010_na.nc4', 'daymet_v3_prcp_annttl_2010_pr.nc4', 'daymet_v3_prcp_annttl_2011_hi.nc4', 'daymet_v3_prcp_annttl_2011_na.nc4', 'daymet_v3_prcp_annttl_2011_pr.nc4', 'daymet_v3_prcp_annttl_2012_hi.nc4', 'daymet_v3_prcp_annttl_2012_na.nc4', 'daymet_v3_prcp_annttl_2012_pr.nc4', 'daymet_v3_prcp_annttl_2013_hi.nc4', 'daymet_v3_prcp_annttl_2013_na.nc4', 'daymet_v3_prcp_annttl_2013_pr.nc4', 'daymet_v3_prcp_annttl_2014_hi.nc4', 'daymet_v3_prcp_annttl_2014_na.nc4', 'daymet_v3_prcp_annttl_2014_pr.nc4', 'daymet_v3_prcp_annttl_2015_hi.nc4', 'daymet_v3_prcp_annttl_2015_na.nc4', 'daymet_v3_prcp_annttl_2015_pr.nc4', 'daymet_v3_prcp_annttl_2016_hi.nc4', 'daymet_v3_prcp_annttl_2016_na.nc4', 'daymet_v3_prcp_annttl_2016_pr.nc4', 'daymet_v3_prcp_annttl_2017_hi.nc4', 'daymet_v3_prcp_annttl_2017_na.nc4', 'daymet_v3_prcp_annttl_2017_pr.nc4', 'daymet_v3_prcp_annttl_2018_hi.nc4', 'daymet_v3_prcp_annttl_2018_na.nc4', 'daymet_v3_prcp_annttl_2018_pr.nc4', 'daymet_v3_prcp_annttl_2019_hi.nc4', 'daymet_v3_prcp_annttl_2019_na.nc4', 'daymet_v3_prcp_annttl_2019_pr.nc4', 'daymet_v3_tmax_annavg_1980_hi.nc4', 'daymet_v3_tmax_annavg_1980_na.nc4', 'daymet_v3_tmax_annavg_1980_pr.nc4', 'daymet_v3_tmax_annavg_1981_hi.nc4', 'daymet_v3_tmax_annavg_1981_na.nc4', 'daymet_v3_tmax_annavg_1981_pr.nc4', 'daymet_v3_tmax_annavg_1982_hi.nc4', 'daymet_v3_tmax_annavg_1982_na.nc4', 'daymet_v3_tmax_annavg_1982_pr.nc4', 'daymet_v3_tmax_annavg_1983_hi.nc4', 'daymet_v3_tmax_annavg_1983_na.nc4', 'daymet_v3_tmax_annavg_1983_pr.nc4', 'daymet_v3_tmax_annavg_1984_hi.nc4', 'daymet_v3_tmax_annavg_1984_na.nc4', 'daymet_v3_tmax_annavg_1984_pr.nc4', 'daymet_v3_tmax_annavg_1985_hi.nc4', 'daymet_v3_tmax_annavg_1985_na.nc4', 'daymet_v3_tmax_annavg_1985_pr.nc4', 'daymet_v3_tmax_annavg_1986_hi.nc4', 'daymet_v3_tmax_annavg_1986_na.nc4', 'daymet_v3_tmax_annavg_1986_pr.nc4', 'daymet_v3_tmax_annavg_1987_hi.nc4', 'daymet_v3_tmax_annavg_1987_na.nc4', 'daymet_v3_tmax_annavg_1987_pr.nc4', 'daymet_v3_tmax_annavg_1988_hi.nc4', 'daymet_v3_tmax_annavg_1988_na.nc4', 'daymet_v3_tmax_annavg_1988_pr.nc4', 'daymet_v3_tmax_annavg_1989_hi.nc4', 'daymet_v3_tmax_annavg_1989_na.nc4', 'daymet_v3_tmax_annavg_1989_pr.nc4', 'daymet_v3_tmax_annavg_1990_hi.nc4', 'daymet_v3_tmax_annavg_1990_na.nc4', 'daymet_v3_tmax_annavg_1990_pr.nc4', 'daymet_v3_tmax_annavg_1991_hi.nc4', 'daymet_v3_tmax_annavg_1991_na.nc4', 'daymet_v3_tmax_annavg_1991_pr.nc4', 'daymet_v3_tmax_annavg_1992_hi.nc4', 'daymet_v3_tmax_annavg_1992_na.nc4', 'daymet_v3_tmax_annavg_1992_pr.nc4', 'daymet_v3_tmax_annavg_1993_hi.nc4', 'daymet_v3_tmax_annavg_1993_na.nc4', 'daymet_v3_tmax_annavg_1993_pr.nc4', 'daymet_v3_tmax_annavg_1994_hi.nc4', 'daymet_v3_tmax_annavg_1994_na.nc4', 'daymet_v3_tmax_annavg_1994_pr.nc4', 'daymet_v3_tmax_annavg_1995_hi.nc4', 'daymet_v3_tmax_annavg_1995_na.nc4', 'daymet_v3_tmax_annavg_1995_pr.nc4', 'daymet_v3_tmax_annavg_1996_hi.nc4', 'daymet_v3_tmax_annavg_1996_na.nc4', 'daymet_v3_tmax_annavg_1996_pr.nc4', 'daymet_v3_tmax_annavg_1997_hi.nc4', 'daymet_v3_tmax_annavg_1997_na.nc4', 'daymet_v3_tmax_annavg_1997_pr.nc4', 'daymet_v3_tmax_annavg_1998_hi.nc4', 'daymet_v3_tmax_annavg_1998_na.nc4', 'daymet_v3_tmax_annavg_1998_pr.nc4', 'daymet_v3_tmax_annavg_1999_hi.nc4', 'daymet_v3_tmax_annavg_1999_na.nc4', 'daymet_v3_tmax_annavg_1999_pr.nc4', 'daymet_v3_tmax_annavg_2000_hi.nc4', 'daymet_v3_tmax_annavg_2000_na.nc4', 'daymet_v3_tmax_annavg_2000_pr.nc4', 'daymet_v3_tmax_annavg_2001_hi.nc4', 'daymet_v3_tmax_annavg_2001_na.nc4', 'daymet_v3_tmax_annavg_2001_pr.nc4', 'daymet_v3_tmax_annavg_2002_hi.nc4', 'daymet_v3_tmax_annavg_2002_na.nc4', 'daymet_v3_tmax_annavg_2002_pr.nc4', 'daymet_v3_tmax_annavg_2003_hi.nc4', 'daymet_v3_tmax_annavg_2003_na.nc4', 'daymet_v3_tmax_annavg_2003_pr.nc4', 'daymet_v3_tmax_annavg_2004_hi.nc4', 'daymet_v3_tmax_annavg_2004_na.nc4', 'daymet_v3_tmax_annavg_2004_pr.nc4', 'daymet_v3_tmax_annavg_2005_hi.nc4', 'daymet_v3_tmax_annavg_2005_na.nc4', 'daymet_v3_tmax_annavg_2005_pr.nc4', 'daymet_v3_tmax_annavg_2006_hi.nc4', 'daymet_v3_tmax_annavg_2006_na.nc4', 'daymet_v3_tmax_annavg_2006_pr.nc4', 'daymet_v3_tmax_annavg_2007_hi.nc4', 'daymet_v3_tmax_annavg_2007_na.nc4', 'daymet_v3_tmax_annavg_2007_pr.nc4', 'daymet_v3_tmax_annavg_2008_hi.nc4', 'daymet_v3_tmax_annavg_2008_na.nc4', 'daymet_v3_tmax_annavg_2008_pr.nc4', 'daymet_v3_tmax_annavg_2009_hi.nc4', 'daymet_v3_tmax_annavg_2009_na.nc4', 'daymet_v3_tmax_annavg_2009_pr.nc4', 'daymet_v3_tmax_annavg_2010_hi.nc4', 'daymet_v3_tmax_annavg_2010_na.nc4', 'daymet_v3_tmax_annavg_2010_pr.nc4', 'daymet_v3_tmax_annavg_2011_hi.nc4', 'daymet_v3_tmax_annavg_2011_na.nc4', 'daymet_v3_tmax_annavg_2011_pr.nc4', 'daymet_v3_tmax_annavg_2012_hi.nc4', 'daymet_v3_tmax_annavg_2012_na.nc4', 'daymet_v3_tmax_annavg_2012_pr.nc4', 'daymet_v3_tmax_annavg_2013_hi.nc4', 'daymet_v3_tmax_annavg_2013_na.nc4', 'daymet_v3_tmax_annavg_2013_pr.nc4', 'daymet_v3_tmax_annavg_2014_hi.nc4', 'daymet_v3_tmax_annavg_2014_na.nc4', 'daymet_v3_tmax_annavg_2014_pr.nc4', 'daymet_v3_tmax_annavg_2015_hi.nc4', 'daymet_v3_tmax_annavg_2015_na.nc4', 'daymet_v3_tmax_annavg_2015_pr.nc4', 'daymet_v3_tmax_annavg_2016_hi.nc4', 'daymet_v3_tmax_annavg_2016_na.nc4', 'daymet_v3_tmax_annavg_2016_pr.nc4', 'daymet_v3_tmax_annavg_2017_hi.nc4', 'daymet_v3_tmax_annavg_2017_na.nc4', 'daymet_v3_tmax_annavg_2017_pr.nc4', 'daymet_v3_tmax_annavg_2018_hi.nc4', 'daymet_v3_tmax_annavg_2018_na.nc4', 'daymet_v3_tmax_annavg_2018_pr.nc4', 'daymet_v3_tmax_annavg_2019_hi.nc4', 'daymet_v3_tmax_annavg_2019_na.nc4', 'daymet_v3_tmax_annavg_2019_pr.nc4', 'daymet_v3_tmin_annavg_1980_hi.nc4', 'daymet_v3_tmin_annavg_1980_na.nc4', 'daymet_v3_tmin_annavg_1980_pr.nc4', 'daymet_v3_tmin_annavg_1981_hi.nc4', 'daymet_v3_tmin_annavg_1981_na.nc4', 'daymet_v3_tmin_annavg_1981_pr.nc4', 'daymet_v3_tmin_annavg_1982_hi.nc4', 'daymet_v3_tmin_annavg_1982_na.nc4', 'daymet_v3_tmin_annavg_1982_pr.nc4', 'daymet_v3_tmin_annavg_1983_hi.nc4', 'daymet_v3_tmin_annavg_1983_na.nc4', 'daymet_v3_tmin_annavg_1983_pr.nc4', 'daymet_v3_tmin_annavg_1984_hi.nc4', 'daymet_v3_tmin_annavg_1984_na.nc4', 'daymet_v3_tmin_annavg_1984_pr.nc4', 'daymet_v3_tmin_annavg_1985_hi.nc4', 'daymet_v3_tmin_annavg_1985_na.nc4', 'daymet_v3_tmin_annavg_1985_pr.nc4', 'daymet_v3_tmin_annavg_1986_hi.nc4', 'daymet_v3_tmin_annavg_1986_na.nc4', 'daymet_v3_tmin_annavg_1986_pr.nc4', 'daymet_v3_tmin_annavg_1987_hi.nc4', 'daymet_v3_tmin_annavg_1987_na.nc4', 'daymet_v3_tmin_annavg_1987_pr.nc4', 'daymet_v3_tmin_annavg_1988_hi.nc4', 'daymet_v3_tmin_annavg_1988_na.nc4', 'daymet_v3_tmin_annavg_1988_pr.nc4', 'daymet_v3_tmin_annavg_1989_hi.nc4', 'daymet_v3_tmin_annavg_1989_na.nc4', 'daymet_v3_tmin_annavg_1989_pr.nc4', 'daymet_v3_tmin_annavg_1990_hi.nc4', 'daymet_v3_tmin_annavg_1990_na.nc4', 'daymet_v3_tmin_annavg_1990_pr.nc4', 'daymet_v3_tmin_annavg_1991_hi.nc4', 'daymet_v3_tmin_annavg_1991_na.nc4', 'daymet_v3_tmin_annavg_1991_pr.nc4', 'daymet_v3_tmin_annavg_1992_hi.nc4', 'daymet_v3_tmin_annavg_1992_na.nc4', 'daymet_v3_tmin_annavg_1992_pr.nc4', 'daymet_v3_tmin_annavg_1993_hi.nc4', 'daymet_v3_tmin_annavg_1993_na.nc4', 'daymet_v3_tmin_annavg_1993_pr.nc4', 'daymet_v3_tmin_annavg_1994_hi.nc4', 'daymet_v3_tmin_annavg_1994_na.nc4', 'daymet_v3_tmin_annavg_1994_pr.nc4', 'daymet_v3_tmin_annavg_1995_hi.nc4', 'daymet_v3_tmin_annavg_1995_na.nc4', 'daymet_v3_tmin_annavg_1995_pr.nc4', 'daymet_v3_tmin_annavg_1996_hi.nc4', 'daymet_v3_tmin_annavg_1996_na.nc4', 'daymet_v3_tmin_annavg_1996_pr.nc4', 'daymet_v3_tmin_annavg_1997_hi.nc4', 'daymet_v3_tmin_annavg_1997_na.nc4', 'daymet_v3_tmin_annavg_1997_pr.nc4', 'daymet_v3_tmin_annavg_1998_hi.nc4', 'daymet_v3_tmin_annavg_1998_na.nc4', 'daymet_v3_tmin_annavg_1998_pr.nc4', 'daymet_v3_tmin_annavg_1999_hi.nc4', 'daymet_v3_tmin_annavg_1999_na.nc4', 'daymet_v3_tmin_annavg_1999_pr.nc4', 'daymet_v3_tmin_annavg_2000_hi.nc4', 'daymet_v3_tmin_annavg_2000_na.nc4', 'daymet_v3_tmin_annavg_2000_pr.nc4', 'daymet_v3_tmin_annavg_2001_hi.nc4', 'daymet_v3_tmin_annavg_2001_na.nc4', 'daymet_v3_tmin_annavg_2001_pr.nc4', 'daymet_v3_tmin_annavg_2002_hi.nc4', 'daymet_v3_tmin_annavg_2002_na.nc4', 'daymet_v3_tmin_annavg_2002_pr.nc4', 'daymet_v3_tmin_annavg_2003_hi.nc4', 'daymet_v3_tmin_annavg_2003_na.nc4', 'daymet_v3_tmin_annavg_2003_pr.nc4', 'daymet_v3_tmin_annavg_2004_hi.nc4', 'daymet_v3_tmin_annavg_2004_na.nc4', 'daymet_v3_tmin_annavg_2004_pr.nc4', 'daymet_v3_tmin_annavg_2005_hi.nc4', 'daymet_v3_tmin_annavg_2005_na.nc4', 'daymet_v3_tmin_annavg_2005_pr.nc4', 'daymet_v3_tmin_annavg_2006_hi.nc4', 'daymet_v3_tmin_annavg_2006_na.nc4', 'daymet_v3_tmin_annavg_2006_pr.nc4', 'daymet_v3_tmin_annavg_2007_hi.nc4', 'daymet_v3_tmin_annavg_2007_na.nc4', 'daymet_v3_tmin_annavg_2007_pr.nc4', 'daymet_v3_tmin_annavg_2008_hi.nc4', 'daymet_v3_tmin_annavg_2008_na.nc4', 'daymet_v3_tmin_annavg_2008_pr.nc4', 'daymet_v3_tmin_annavg_2009_hi.nc4', 'daymet_v3_tmin_annavg_2009_na.nc4', 'daymet_v3_tmin_annavg_2009_pr.nc4', 'daymet_v3_tmin_annavg_2010_hi.nc4', 'daymet_v3_tmin_annavg_2010_na.nc4', 'daymet_v3_tmin_annavg_2010_pr.nc4', 'daymet_v3_tmin_annavg_2011_hi.nc4', 'daymet_v3_tmin_annavg_2011_na.nc4', 'daymet_v3_tmin_annavg_2011_pr.nc4', 'daymet_v3_tmin_annavg_2012_hi.nc4', 'daymet_v3_tmin_annavg_2012_na.nc4', 'daymet_v3_tmin_annavg_2012_pr.nc4', 'daymet_v3_tmin_annavg_2013_hi.nc4', 'daymet_v3_tmin_annavg_2013_na.nc4', 'daymet_v3_tmin_annavg_2013_pr.nc4', 'daymet_v3_tmin_annavg_2014_hi.nc4', 'daymet_v3_tmin_annavg_2014_na.nc4', 'daymet_v3_tmin_annavg_2014_pr.nc4', 'daymet_v3_tmin_annavg_2015_hi.nc4', 'daymet_v3_tmin_annavg_2015_na.nc4', 'daymet_v3_tmin_annavg_2015_pr.nc4', 'daymet_v3_tmin_annavg_2016_hi.nc4', 'daymet_v3_tmin_annavg_2016_na.nc4', 'daymet_v3_tmin_annavg_2016_pr.nc4', 'daymet_v3_tmin_annavg_2017_hi.nc4', 'daymet_v3_tmin_annavg_2017_na.nc4', 'daymet_v3_tmin_annavg_2017_pr.nc4', 'daymet_v3_tmin_annavg_2018_hi.nc4', 'daymet_v3_tmin_annavg_2018_na.nc4', 'daymet_v3_tmin_annavg_2018_pr.nc4', 'daymet_v3_tmin_annavg_2019_hi.nc4', 'daymet_v3_tmin_annavg_2019_na.nc4', 'daymet_v3_tmin_annavg_2019_pr.nc4', 'daymet_v3_vp_annavg_1980_hi.nc4', 'daymet_v3_vp_annavg_1980_na.nc4', 'daymet_v3_vp_annavg_1980_pr.nc4', 'daymet_v3_vp_annavg_1981_hi.nc4', 'daymet_v3_vp_annavg_1981_na.nc4', 'daymet_v3_vp_annavg_1981_pr.nc4', 'daymet_v3_vp_annavg_1982_hi.nc4', 'daymet_v3_vp_annavg_1982_na.nc4', 'daymet_v3_vp_annavg_1982_pr.nc4', 'daymet_v3_vp_annavg_1983_hi.nc4', 'daymet_v3_vp_annavg_1983_na.nc4', 'daymet_v3_vp_annavg_1983_pr.nc4', 'daymet_v3_vp_annavg_1984_hi.nc4', 'daymet_v3_vp_annavg_1984_na.nc4', 'daymet_v3_vp_annavg_1984_pr.nc4', 'daymet_v3_vp_annavg_1985_hi.nc4', 'daymet_v3_vp_annavg_1985_na.nc4', 'daymet_v3_vp_annavg_1985_pr.nc4', 'daymet_v3_vp_annavg_1986_hi.nc4', 'daymet_v3_vp_annavg_1986_na.nc4', 'daymet_v3_vp_annavg_1986_pr.nc4', 'daymet_v3_vp_annavg_1987_hi.nc4', 'daymet_v3_vp_annavg_1987_na.nc4', 'daymet_v3_vp_annavg_1987_pr.nc4', 'daymet_v3_vp_annavg_1988_hi.nc4', 'daymet_v3_vp_annavg_1988_na.nc4', 'daymet_v3_vp_annavg_1988_pr.nc4', 'daymet_v3_vp_annavg_1989_hi.nc4', 'daymet_v3_vp_annavg_1989_na.nc4', 'daymet_v3_vp_annavg_1989_pr.nc4', 'daymet_v3_vp_annavg_1990_hi.nc4', 'daymet_v3_vp_annavg_1990_na.nc4', 'daymet_v3_vp_annavg_1990_pr.nc4', 'daymet_v3_vp_annavg_1991_hi.nc4', 'daymet_v3_vp_annavg_1991_na.nc4', 'daymet_v3_vp_annavg_1991_pr.nc4', 'daymet_v3_vp_annavg_1992_hi.nc4', 'daymet_v3_vp_annavg_1992_na.nc4', 'daymet_v3_vp_annavg_1992_pr.nc4', 'daymet_v3_vp_annavg_1993_hi.nc4', 'daymet_v3_vp_annavg_1993_na.nc4', 'daymet_v3_vp_annavg_1993_pr.nc4', 'daymet_v3_vp_annavg_1994_hi.nc4', 'daymet_v3_vp_annavg_1994_na.nc4', 'daymet_v3_vp_annavg_1994_pr.nc4', 'daymet_v3_vp_annavg_1995_hi.nc4', 'daymet_v3_vp_annavg_1995_na.nc4', 'daymet_v3_vp_annavg_1995_pr.nc4', 'daymet_v3_vp_annavg_1996_hi.nc4', 'daymet_v3_vp_annavg_1996_na.nc4', 'daymet_v3_vp_annavg_1996_pr.nc4', 'daymet_v3_vp_annavg_1997_hi.nc4', 'daymet_v3_vp_annavg_1997_na.nc4', 'daymet_v3_vp_annavg_1997_pr.nc4', 'daymet_v3_vp_annavg_1998_hi.nc4', 'daymet_v3_vp_annavg_1998_na.nc4', 'daymet_v3_vp_annavg_1998_pr.nc4', 'daymet_v3_vp_annavg_1999_hi.nc4', 'daymet_v3_vp_annavg_1999_na.nc4', 'daymet_v3_vp_annavg_1999_pr.nc4', 'daymet_v3_vp_annavg_2000_hi.nc4', 'daymet_v3_vp_annavg_2000_na.nc4', 'daymet_v3_vp_annavg_2000_pr.nc4', 'daymet_v3_vp_annavg_2001_hi.nc4', 'daymet_v3_vp_annavg_2001_na.nc4', 'daymet_v3_vp_annavg_2001_pr.nc4', 'daymet_v3_vp_annavg_2002_hi.nc4', 'daymet_v3_vp_annavg_2002_na.nc4', 'daymet_v3_vp_annavg_2002_pr.nc4', 'daymet_v3_vp_annavg_2003_hi.nc4', 'daymet_v3_vp_annavg_2003_na.nc4', 'daymet_v3_vp_annavg_2003_pr.nc4', 'daymet_v3_vp_annavg_2004_hi.nc4', 'daymet_v3_vp_annavg_2004_na.nc4', 'daymet_v3_vp_annavg_2004_pr.nc4', 'daymet_v3_vp_annavg_2005_hi.nc4', 'daymet_v3_vp_annavg_2005_na.nc4', 'daymet_v3_vp_annavg_2005_pr.nc4', 'daymet_v3_vp_annavg_2006_hi.nc4', 'daymet_v3_vp_annavg_2006_na.nc4', 'daymet_v3_vp_annavg_2006_pr.nc4', 'daymet_v3_vp_annavg_2007_hi.nc4', 'daymet_v3_vp_annavg_2007_na.nc4', 'daymet_v3_vp_annavg_2007_pr.nc4', 'daymet_v3_vp_annavg_2008_hi.nc4', 'daymet_v3_vp_annavg_2008_na.nc4', 'daymet_v3_vp_annavg_2008_pr.nc4', 'daymet_v3_vp_annavg_2009_hi.nc4', 'daymet_v3_vp_annavg_2009_na.nc4', 'daymet_v3_vp_annavg_2009_pr.nc4', 'daymet_v3_vp_annavg_2010_hi.nc4', 'daymet_v3_vp_annavg_2010_na.nc4', 'daymet_v3_vp_annavg_2010_pr.nc4', 'daymet_v3_vp_annavg_2011_hi.nc4', 'daymet_v3_vp_annavg_2011_na.nc4', 'daymet_v3_vp_annavg_2011_pr.nc4', 'daymet_v3_vp_annavg_2012_hi.nc4', 'daymet_v3_vp_annavg_2012_na.nc4', 'daymet_v3_vp_annavg_2012_pr.nc4', 'daymet_v3_vp_annavg_2013_hi.nc4', 'daymet_v3_vp_annavg_2013_na.nc4', 'daymet_v3_vp_annavg_2013_pr.nc4', 'daymet_v3_vp_annavg_2014_hi.nc4', 'daymet_v3_vp_annavg_2014_na.nc4', 'daymet_v3_vp_annavg_2014_pr.nc4', 'daymet_v3_vp_annavg_2015_hi.nc4', 'daymet_v3_vp_annavg_2015_na.nc4', 'daymet_v3_vp_annavg_2015_pr.nc4', 'daymet_v3_vp_annavg_2016_hi.nc4', 'daymet_v3_vp_annavg_2016_na.nc4', 'daymet_v3_vp_annavg_2016_pr.nc4', 'daymet_v3_vp_annavg_2017_hi.nc4', 'daymet_v3_vp_annavg_2017_na.nc4', 'daymet_v3_vp_annavg_2017_pr.nc4', 'daymet_v3_vp_annavg_2018_hi.nc4', 'daymet_v3_vp_annavg_2018_na.nc4', 'daymet_v3_vp_annavg_2018_pr.nc4', 'daymet_v3_vp_annavg_2019_hi.nc4', 'daymet_v3_vp_annavg_2019_na.nc4', 'daymet_v3_vp_annavg_2019_pr.nc4']"
      ]
     },
     "execution_count": 76,
     "metadata": {},
     "output_type": "execute_result"
    }
   ],
   "source": [
    "# Annual and monthly files are listed in TDS by name. Test with annual climatolgy.  \n",
    "daymet_ann_cat = TDSCatalog('https://thredds.daac.ornl.gov/thredds/catalog/ornldaac/1343/catalog.html')\n",
    "daymet_ann_cat.datasets"
   ]
  },
  {
   "cell_type": "code",
   "execution_count": 77,
   "metadata": {},
   "outputs": [
    {
     "name": "stdout",
     "output_type": "stream",
     "text": [
      "daymet_v3_tmax_annavg_1980_na.nc4\n"
     ]
    }
   ],
   "source": [
    "dataset_annavgtmax_na_1980 = daymet_ann_cat.datasets['daymet_v3_tmax_annavg_1980_na.nc4']\n",
    "print(dataset_annavgtmax_na_1980)"
   ]
  },
  {
   "cell_type": "code",
   "execution_count": 17,
   "metadata": {},
   "outputs": [],
   "source": [
    "#Takes a while to download.  Commenting out for convenience.\n",
    "#dataset_annavgtmax_na_1980.download()"
   ]
  },
  {
   "cell_type": "markdown",
   "metadata": {},
   "source": [
    "You can also read from the file as if it were local using a 'file-like object'\n",
    "For this dataset, these next couple lines can be skipped for the next option below because we can read it as a netCDF file.\n",
    "Keeping here for reference.\n",
    "\n",
    "fobj = dataset_annavgtmax_na1980.remote_open()\n",
    "\n",
    "data_annavgtmax_na1980 = fobj.read()"
   ]
  },
  {
   "cell_type": "code",
   "execution_count": 78,
   "metadata": {},
   "outputs": [
    {
     "name": "stdout",
     "output_type": "stream",
     "text": [
      "<class 'netCDF4._netCDF4.Dataset'>\n",
      "root group (NETCDF3_CLASSIC data model, file format DAP2):\n",
      "    start_year: 1980\n",
      "    source: Daymet Software Version 3.0\n",
      "    Version_software: Daymet Software Version 3.0\n",
      "    Version_data: Daymet Data Version 3.0\n",
      "    Conventions: CF-1.6\n",
      "    citation: Please see http://daymet.ornl.gov/ for current Daymet data citation information\n",
      "    references: Please see http://daymet.ornl.gov/ for current information on Daymet references\n",
      "    DODS_EXTRA.Unlimited_Dimension: time\n",
      "    dimensions(sizes): time(1), nv(2), x(7814), y(8075)\n",
      "    variables(dimensions): float32 \u001b[4mtime_bnds\u001b[0m(time,nv), int16 \u001b[4mlambert_conformal_conic\u001b[0m(), float32 \u001b[4mtime\u001b[0m(time), float32 \u001b[4mx\u001b[0m(x), float32 \u001b[4my\u001b[0m(y), float32 \u001b[4mlat\u001b[0m(y,x), float32 \u001b[4mlon\u001b[0m(y,x), float32 \u001b[4mtmax\u001b[0m(time,y,x)\n",
      "    groups: \n",
      "\n"
     ]
    }
   ],
   "source": [
    "# This is handy if you have Python code to read a particular format.\n",
    "# It's also possible to get access to the file through services that provide netCDF4-like access, but for the remote file. \n",
    "# This access allows downloading information only for variables of interest, or for (index-based) subsets of that data.\n",
    "\n",
    "#nc = dataset_annavgtmax_na_1980.remote_access()\n",
    "#print(nc)\n",
    "\n",
    "annavgtmax_na_1980_remote = dataset_annavgtmax_na_1980.remote_access()\n",
    "print(annavgtmax_na_1980_remote)"
   ]
  },
  {
   "cell_type": "code",
   "execution_count": 79,
   "metadata": {},
   "outputs": [
    {
     "data": {
      "text/plain": [
       "['time_bnds',\n",
       " 'lambert_conformal_conic',\n",
       " 'time',\n",
       " 'x',\n",
       " 'y',\n",
       " 'lat',\n",
       " 'lon',\n",
       " 'tmax']"
      ]
     },
     "execution_count": 79,
     "metadata": {},
     "output_type": "execute_result"
    }
   ],
   "source": [
    "list(annavgtmax_na_1980_remote.variables)"
   ]
  },
  {
   "cell_type": "code",
   "execution_count": 80,
   "metadata": {},
   "outputs": [
    {
     "name": "stdout",
     "output_type": "stream",
     "text": [
      "<class 'netCDF4._netCDF4.Variable'>\n",
      "float32 tmax(time, y, x)\n",
      "    _FillValue: -9999.0\n",
      "    coordinates: lat lon\n",
      "    grid_mapping: lambert_conformal_conic\n",
      "    missing_value: -9999.0\n",
      "    units: degrees C\n",
      "    cell_methods: area: mean time: minimum within days time: mean over days\n",
      "    long_name: annual average of daily maximum temperature\n",
      "    _ChunkSizes: [   1 1010  977]\n",
      "unlimited dimensions: time\n",
      "current shape = (1, 8075, 7814)\n",
      "filling off\n",
      "\n"
     ]
    }
   ],
   "source": [
    "#print(nc.variables.keys())\n",
    "print(annavgtmax_na_1980_remote.variables['tmax'])"
   ]
  },
  {
   "cell_type": "code",
   "execution_count": 84,
   "metadata": {},
   "outputs": [
    {
     "ename": "RuntimeError",
     "evalue": "NetCDF: Access failure",
     "output_type": "error",
     "traceback": [
      "\u001b[1;31m---------------------------------------------------------------------------\u001b[0m",
      "\u001b[1;31mRuntimeError\u001b[0m                              Traceback (most recent call last)",
      "\u001b[1;32m<ipython-input-84-8faaee13e4ee>\u001b[0m in \u001b[0;36m<module>\u001b[1;34m\u001b[0m\n\u001b[0;32m     11\u001b[0m \u001b[1;31m#ax.imshow(nc.variables['tmax'][0, :1000, :1000], cmap='jet', interpolation='none')\u001b[0m\u001b[1;33m\u001b[0m\u001b[1;33m\u001b[0m\u001b[1;33m\u001b[0m\u001b[0m\n\u001b[0;32m     12\u001b[0m \u001b[1;31m#plt.show()\u001b[0m\u001b[1;33m\u001b[0m\u001b[1;33m\u001b[0m\u001b[1;33m\u001b[0m\u001b[0m\n\u001b[1;32m---> 13\u001b[1;33m \u001b[0mimgplot\u001b[0m \u001b[1;33m=\u001b[0m \u001b[0max\u001b[0m\u001b[1;33m.\u001b[0m\u001b[0mimshow\u001b[0m\u001b[1;33m(\u001b[0m\u001b[0mannavgtmax_hi_1981_remote\u001b[0m\u001b[1;33m.\u001b[0m\u001b[0mvariables\u001b[0m\u001b[1;33m[\u001b[0m\u001b[1;34m'tmax'\u001b[0m\u001b[1;33m]\u001b[0m\u001b[1;33m[\u001b[0m\u001b[1;36m0\u001b[0m\u001b[1;33m,\u001b[0m \u001b[1;33m:\u001b[0m\u001b[1;36m500\u001b[0m\u001b[1;33m,\u001b[0m \u001b[1;33m:\u001b[0m\u001b[1;36m500\u001b[0m\u001b[1;33m]\u001b[0m\u001b[1;33m,\u001b[0m \u001b[0mcmap\u001b[0m\u001b[1;33m=\u001b[0m\u001b[1;34m'jet'\u001b[0m\u001b[1;33m,\u001b[0m \u001b[0minterpolation\u001b[0m\u001b[1;33m=\u001b[0m\u001b[1;34m'none'\u001b[0m\u001b[1;33m)\u001b[0m\u001b[1;33m\u001b[0m\u001b[1;33m\u001b[0m\u001b[0m\n\u001b[0m\u001b[0;32m     14\u001b[0m \u001b[1;31m#imgplot = plt.imshow(nc.variables['tmax'][0, :5000, :5000], cmap='jet', interpolation='none')\u001b[0m\u001b[1;33m\u001b[0m\u001b[1;33m\u001b[0m\u001b[1;33m\u001b[0m\u001b[0m\n\u001b[0;32m     15\u001b[0m \u001b[1;33m\u001b[0m\u001b[0m\n",
      "\u001b[1;32mnetCDF4\\_netCDF4.pyx\u001b[0m in \u001b[0;36mnetCDF4._netCDF4.Variable.__getitem__\u001b[1;34m()\u001b[0m\n",
      "\u001b[1;32mnetCDF4\\_netCDF4.pyx\u001b[0m in \u001b[0;36mnetCDF4._netCDF4.Variable._get\u001b[1;34m()\u001b[0m\n",
      "\u001b[1;32mnetCDF4\\_netCDF4.pyx\u001b[0m in \u001b[0;36mnetCDF4._netCDF4._ensure_nc_success\u001b[1;34m()\u001b[0m\n",
      "\u001b[1;31mRuntimeError\u001b[0m: NetCDF: Access failure"
     ]
    },
    {
     "data": {
      "image/png": "[encoded data removed]",
      "text/plain": [
       "<Figure size 360x360 with 1 Axes>"
      ]
     },
     "metadata": {
      "needs_background": "light"
     },
     "output_type": "display_data"
    }
   ],
   "source": [
    "# ???? Problem with netCDF access.  Works sometimes, but often failing ????\n",
    "# Plot small sample image\n",
    "daymet_ann_cat = TDSCatalog('https://thredds.daac.ornl.gov/thredds/catalog/ornldaac/1343/catalog.html')\n",
    "dataset_annavgtmax_hi_1981 = daymet_ann_cat.datasets['daymet_v3_tmax_annavg_1981_hi.nc4']\n",
    "annavgtmax_hi_1981_remote = dataset_annavgtmax_hi_1981.remote_access()\n",
    "\n",
    "%matplotlib inline\n",
    "import matplotlib.pyplot as plt\n",
    "\n",
    "fig, ax = plt.subplots(1, 1, figsize=(5, 5))\n",
    "#imgplot = ax.imshow(annavgtmax_na_1980_remote.variables['tmax'][0, :5000, :5000], cmap='jet', interpolation='none')\n",
    "#ax.imshow(nc.variables['tmax'][0, :1000, :1000], cmap='jet', interpolation='none')\n",
    "#plt.show()\n",
    "imgplot = ax.imshow(annavgtmax_hi_1981_remote.variables['tmax'][0, :500, :500], cmap='jet', interpolation='none')\n",
    "#imgplot = plt.imshow(nc.variables['tmax'][0, :5000, :5000], cmap='jet', interpolation='none')\n",
    "\n",
    "#fig.suptitle('Average Daily Maximum Temperature - 1980', fontsize=16)\n",
    "#plt.colorbar()"
   ]
  },
  {
   "cell_type": "markdown",
   "metadata": {},
   "source": [
    "----"
   ]
  },
  {
   "cell_type": "markdown",
   "metadata": {},
   "source": [
    "## 3. Using Siphon to Subset Data\n",
    "\n",
    "For some datasets, subset support is availble:\n",
    "\n",
    "* Defaults to netCDF Subset Service (NCSS)\n",
    "* Allows specifying latitude, longitude, time, and variables\n",
    "* NCSS downloads a netCDF file\n",
    "* To use NCSS, we can call subset and get a client."
   ]
  },
  {
   "cell_type": "code",
   "execution_count": 35,
   "metadata": {},
   "outputs": [
    {
     "name": "stderr",
     "output_type": "stream",
     "text": [
      "C:\\Users\\myt\\AppData\\Local\\Continuum\\anaconda3\\lib\\site-packages\\siphon\\catalog.py:268: UserWarning: URL https://thredds.daac.ornl.gov/thredds/catalog/ornldaac/1343/catalog.html returned HTML. Changing to: https://thredds.daac.ornl.gov/thredds/catalog/ornldaac/1343/catalog.xml\n",
      "  new_url))\n"
     ]
    },
    {
     "data": {
      "text/plain": [
       "{'lat', 'lon', 'tmax'}"
      ]
     },
     "execution_count": 35,
     "metadata": {},
     "output_type": "execute_result"
    }
   ],
   "source": [
    "#To use NCSS, we can call subset and get a client.\n",
    "# Get the value for one lon,lat from annual data\n",
    "# (Below steps, do this with monthly data.  It will have 12 time steps.  Need to get daily data recognized.)\n",
    "\n",
    "dataset_annavgtmax_na1980 = TDSCatalog('https://thredds.daac.ornl.gov/thredds/catalog/ornldaac/1343/catalog.html').datasets['daymet_v3_tmax_annavg_1980_na.nc4']\n",
    "ncss = dataset_annavgtmax_na1980.subset()\n",
    "ncss.variables\n"
   ]
  },
  {
   "cell_type": "code",
   "execution_count": 36,
   "metadata": {},
   "outputs": [
    {
     "data": {
      "text/plain": [
       "var=tmax&temporal=all&longitude=-105&latitude=40&accept=netcdf"
      ]
     },
     "execution_count": 36,
     "metadata": {},
     "output_type": "execute_result"
    }
   ],
   "source": [
    "# With this client we can set up a query for the data we want\n",
    "# Point Query\n",
    "\n",
    "query = ncss.query()\n",
    "query.lonlat_point(lon=-105, lat=40)\n",
    "query.all_times()\n",
    "query.variables('tmax')\n",
    "query.accept('netcdf')"
   ]
  },
  {
   "cell_type": "code",
   "execution_count": 37,
   "metadata": {},
   "outputs": [
    {
     "name": "stdout",
     "output_type": "stream",
     "text": [
      "[182.5]\n",
      "[18.427397]\n"
     ]
    }
   ],
   "source": [
    "# Next, get the data, which will return it as an already opened netCDF4 object. The annual climatology only has one time step.\n",
    "\n",
    "nc_ann = ncss.get_data(query)\n",
    "tmax_point_data = nc_ann.variables['tmax'][:]\n",
    "times = nc_ann.variables['time'][:]\n",
    "print(times)\n",
    "print(tmax_point_data)"
   ]
  },
  {
   "cell_type": "code",
   "execution_count": 38,
   "metadata": {},
   "outputs": [
    {
     "name": "stderr",
     "output_type": "stream",
     "text": [
      "C:\\Users\\myt\\AppData\\Local\\Continuum\\anaconda3\\lib\\site-packages\\siphon\\catalog.py:268: UserWarning: URL https://thredds.daac.ornl.gov/thredds/catalog/ornldaac/1345/catalog.html returned HTML. Changing to: https://thredds.daac.ornl.gov/thredds/catalog/ornldaac/1345/catalog.xml\n",
      "  new_url))\n"
     ]
    },
    {
     "name": "stdout",
     "output_type": "stream",
     "text": [
      "{'lon', 'lat', 'tmax'}\n",
      "[ 15.5  45.5  75.5 106.  136.5 167.  197.5 228.5 259.  289.5 320.  350. ]\n",
      "[ 2.967742  7.206897  9.5      15.316667 19.725807 30.95     32.596775\n",
      " 30.532259 27.116667 19.306452 12.633333 12.766666]\n"
     ]
    },
    {
     "data": {
      "text/plain": [
       "[<matplotlib.lines.Line2D at 0x17d347884e0>]"
      ]
     },
     "execution_count": 38,
     "metadata": {},
     "output_type": "execute_result"
    },
    {
     "data": {
      "image/png": "[encoded data removed]",
      "text/plain": [
       "<Figure size 432x432 with 1 Axes>"
      ]
     },
     "metadata": {
      "needs_background": "light"
     },
     "output_type": "display_data"
    }
   ],
   "source": [
    "# Monthly Climatology\n",
    "# Doing this with monthly data.  It will have 12 time steps.\n",
    "\n",
    "dataset_monavgtmax_na1980 = TDSCatalog('https://thredds.daac.ornl.gov/thredds/catalog/ornldaac/1345/catalog.html').datasets['daymet_v3_tmax_monavg_1980_na.nc4']\n",
    "ncss = dataset_monavgtmax_na1980.subset()\n",
    "print(ncss.variables)\n",
    "\n",
    "query = ncss.query()\n",
    "query.lonlat_point(lon=-105, lat=40)\n",
    "query.all_times()\n",
    "query.variables('tmax')\n",
    "query.accept('netcdf')\n",
    "\n",
    "nc_ann = ncss.get_data(query)\n",
    "tmax_point_data = nc_ann.variables['tmax'][:]\n",
    "times = nc_ann.variables['time'][:]\n",
    "print(times)\n",
    "print(tmax_point_data)\n",
    "\n",
    "g, ax = plt.subplots(1, 1, figsize=(6, 6))\n",
    "ax.plot(times, tmax_point_data)"
   ]
  },
  {
   "cell_type": "code",
   "execution_count": 40,
   "metadata": {},
   "outputs": [],
   "source": [
    "# Gridded Subset with a lon/lat Bounding Box\n",
    "##### Request the data for a particular time for a gridded subset or region of interest.\n",
    "\n",
    "# First, with annual data\n",
    "dataset_annavgtmax_na1980 = TDSCatalog('https://thredds.daac.ornl.gov/thredds/catalog/ornldaac/1343/catalog.html').datasets['daymet_v3_tmax_annavg_1980_na.nc4']\n",
    "ncss_anntmax80 = dataset_annavgtmax_na1980.subset()\n",
    "ncss_anntmax80.variables\n",
    "\n",
    "query = ncss_anntmax80.query()\n",
    "query.lonlat_box(east=-85, west=-90, south=40, north=45)\n",
    "query.all_times()\n",
    "query.variables('tmax')\n",
    "query.accept('netcdf')\n",
    "nc_subset_anntmax80 = ncss_anntmax80.get_data(query)\n"
   ]
  },
  {
   "cell_type": "code",
   "execution_count": 41,
   "metadata": {},
   "outputs": [
    {
     "data": {
      "text/plain": [
       "<matplotlib.image.AxesImage at 0x17d358e3e48>"
      ]
     },
     "execution_count": 41,
     "metadata": {},
     "output_type": "execute_result"
    },
    {
     "data": {
      "image/png": "[encoded data removed]",
      "text/plain": [
       "<Figure size 432x432 with 1 Axes>"
      ]
     },
     "metadata": {
      "needs_background": "light"
     },
     "output_type": "display_data"
    }
   ],
   "source": [
    "fig, ax = plt.subplots(1, 1, figsize=(6, 6))\n",
    "ax.imshow(nc_subset_anntmax80.variables['tmax'][0], cmap='jet')"
   ]
  },
  {
   "cell_type": "code",
   "execution_count": null,
   "metadata": {},
   "outputs": [],
   "source": [
    "# Next, subset with time"
   ]
  },
  {
   "cell_type": "code",
   "execution_count": null,
   "metadata": {},
   "outputs": [],
   "source": []
  }
 ],
 "metadata": {
  "kernelspec": {
   "display_name": "Python 3",
   "language": "python",
   "name": "python3"
  }
 },
 "nbformat": 4,
 "nbformat_minor": 2
}
